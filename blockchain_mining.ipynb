{
 "cells": [
  {
   "cell_type": "code",
   "execution_count": 13,
   "metadata": {},
   "outputs": [],
   "source": []
  },
  {
   "cell_type": "code",
   "execution_count": 14,
   "metadata": {},
   "outputs": [],
   "source": []
  },
  {
   "cell_type": "code",
   "execution_count": 19,
   "metadata": {},
   "outputs": [],
   "source": [
    "from hashlib import sha256 #importing the SHA256 which is used in hashing \n",
    "MAX_NONCE = 100000000000\n",
    "\n",
    "def SHA256(text):\n",
    "    return sha256(text.encode(\"ascii\")).hexdigest()\n",
    "\n",
    "def mine(block_number, transactions, previous_hash, prefix_zeros):\n",
    "    prefix_str = '0'*prefix_zeros\n",
    "    for nonce in range(MAX_NONCE): # iterating till we find a hash with first 0 with prefix_str\n",
    "        text = str(block_number) + transactions + previous_hash + str(nonce) # converting a string by considering all the parameters \n",
    "        new_hash = SHA256(text) #creating a hash \n",
    "        if new_hash.startswith(prefix_str):\n",
    "            print(f\"Yay! Successfully mined bitcoins with nonce value:{nonce}\")\n",
    "            return new_hash\n",
    "\n",
    "    raise BaseException(f\"Couldn't find correct has after trying {MAX_NONCE} times\")"
   ]
  },
  {
   "cell_type": "code",
   "execution_count": 23,
   "metadata": {},
   "outputs": [
    {
     "name": "stdout",
     "output_type": "stream",
     "text": [
      "start mining\n",
      "Yay! Successfully mined bitcoins with nonce value:109997\n",
      "end mining. Mining took: 0.26022958755493164 seconds\n",
      "00009e31226df08aa702b6260cf9a1383eedd4457ededc960daf49b019b82b54\n"
     ]
    }
   ],
   "source": [
    "if __name__=='__main__':\n",
    "    transactions='''       \n",
    "    Sarthak->Sanskar->20         #creating a transcation \n",
    "    Sanskar->Divya->369\n",
    "    '''\n",
    "    difficulty= 4\n",
    "    import time\n",
    "    start = time.time()\n",
    "    print(\"start mining\")\n",
    "    new_hash = mine(5,transactions,'0000000xa036944e29568d0cff17edbe038f81208fecf9a66be9a2b8321c6ec7', difficulty) #mining the block\n",
    "    total_time = str((time.time() - start))\n",
    "    print(f\"end mining. Mining took: {total_time} seconds\")\n",
    "    print(new_hash)"
   ]
  },
  {
   "cell_type": "code",
   "execution_count": null,
   "metadata": {},
   "outputs": [],
   "source": []
  }
 ],
 "metadata": {
  "kernelspec": {
   "display_name": "Python 3",
   "language": "python",
   "name": "python3"
  },
  "language_info": {
   "codemirror_mode": {
    "name": "ipython",
    "version": 3
   },
   "file_extension": ".py",
   "mimetype": "text/x-python",
   "name": "python",
   "nbconvert_exporter": "python",
   "pygments_lexer": "ipython3",
   "version": "3.8.5"
  }
 },
 "nbformat": 4,
 "nbformat_minor": 4
}
